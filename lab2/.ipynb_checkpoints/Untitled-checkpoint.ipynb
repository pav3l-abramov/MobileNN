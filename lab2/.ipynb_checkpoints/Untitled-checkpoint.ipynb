{
 "cells": [
  {
   "cell_type": "code",
   "execution_count": 1,
   "id": "6ee357ed",
   "metadata": {},
   "outputs": [
    {
     "data": {
      "text/plain": [
       "torch.Size([1, 1000])"
      ]
     },
     "execution_count": 1,
     "metadata": {},
     "output_type": "execute_result"
    }
   ],
   "source": [
    "import timm \n",
    "import torch\n",
    "\n",
    "model = timm.create_model('resnet34')\n",
    "x     = torch.randn(1, 3, 224, 224)\n",
    "model(x).shape"
   ]
  },
  {
   "cell_type": "code",
   "execution_count": 2,
   "id": "d8934eb9",
   "metadata": {},
   "outputs": [],
   "source": [
    "pretrained_resnet_34 = timm.create_model('resnet34', pretrained=True)"
   ]
  },
  {
   "cell_type": "code",
   "execution_count": 3,
   "id": "19f1c25d",
   "metadata": {},
   "outputs": [
    {
     "data": {
      "text/plain": [
       "torch.Size([1, 10])"
      ]
     },
     "execution_count": 3,
     "metadata": {},
     "output_type": "execute_result"
    }
   ],
   "source": [
    "import timm \n",
    "import torch\n",
    "\n",
    "model = timm.create_model('resnet34', num_classes=10)\n",
    "x     = torch.randn(1, 3, 224, 224)\n",
    "model(x).shape"
   ]
  },
  {
   "cell_type": "markdown",
   "id": "3913de5b",
   "metadata": {},
   "source": [
    "# Список моделей с предварительно подготовленными весами"
   ]
  },
  {
   "cell_type": "code",
   "execution_count": 4,
   "id": "ec5bb80b",
   "metadata": {},
   "outputs": [
    {
     "data": {
      "text/plain": [
       "(1163,\n",
       " ['bat_resnext26ts.ch_in1k',\n",
       "  'beit_base_patch16_224.in22k_ft_in22k',\n",
       "  'beit_base_patch16_224.in22k_ft_in22k_in1k',\n",
       "  'beit_base_patch16_384.in22k_ft_in22k_in1k',\n",
       "  'beit_large_patch16_224.in22k_ft_in22k'])"
      ]
     },
     "execution_count": 4,
     "metadata": {},
     "output_type": "execute_result"
    }
   ],
   "source": [
    "avail_pretrained_models = timm.list_models(pretrained=True)\n",
    "len(avail_pretrained_models), avail_pretrained_models[:5]"
   ]
  },
  {
   "cell_type": "markdown",
   "id": "3326d7ee",
   "metadata": {},
   "source": [
    "# Поиск архитектур моделей по шаблону"
   ]
  },
  {
   "cell_type": "code",
   "execution_count": 5,
   "id": "74bef13f",
   "metadata": {},
   "outputs": [
    {
     "data": {
      "text/plain": [
       "['densenet121',\n",
       " 'densenet161',\n",
       " 'densenet169',\n",
       " 'densenet201',\n",
       " 'densenet264d',\n",
       " 'densenetblur121d']"
      ]
     },
     "execution_count": 5,
     "metadata": {},
     "output_type": "execute_result"
    }
   ],
   "source": [
    "all_densenet_models = timm.list_models('*densenet*')\n",
    "all_densenet_models"
   ]
  },
  {
   "cell_type": "markdown",
   "id": "f9d2f841",
   "metadata": {},
   "source": [
    "# Точная настройка модели timm в fastai"
   ]
  },
  {
   "cell_type": "code",
   "execution_count": 6,
   "id": "e7584436",
   "metadata": {},
   "outputs": [
    {
     "data": {
      "text/plain": [
       "\"\\nfrom fastai.vision.all import *\\n\\npath = untar_data(URLs.PETS)/'images'\\ndls = ImageDataLoaders.from_name_func(\\n    path, get_image_files(path), valid_pct=0.2,\\n    label_func=lambda x: x[0].isupper(), item_tfms=Resize(224))\\n    \\n# if a string is passed into the model argument, it will now use timm (if it is installed)\\nlearn = vision_learner(dls, 'vit_tiny_patch16_224', metrics=error_rate)\\n\\nlearn.fine_tune(1)\\n\""
      ]
     },
     "execution_count": 6,
     "metadata": {},
     "output_type": "execute_result"
    }
   ],
   "source": [
    "'''\n",
    "from fastai.vision.all import *\n",
    "\n",
    "path = untar_data(URLs.PETS)/'images'\n",
    "dls = ImageDataLoaders.from_name_func(\n",
    "    path, get_image_files(path), valid_pct=0.2,\n",
    "    label_func=lambda x: x[0].isupper(), item_tfms=Resize(224))\n",
    "    \n",
    "# if a string is passed into the model argument, it will now use timm (if it is installed)\n",
    "learn = vision_learner(dls, 'vit_tiny_patch16_224', metrics=error_rate)\n",
    "\n",
    "learn.fine_tune(1)\n",
    "'''"
   ]
  },
  {
   "cell_type": "markdown",
   "id": "2a96fdfb",
   "metadata": {},
   "source": [
    "# Создайте любую модель из timm."
   ]
  },
  {
   "cell_type": "code",
   "execution_count": 8,
   "id": "82fc709b",
   "metadata": {},
   "outputs": [
    {
     "data": {
      "application/vnd.jupyter.widget-view+json": {
       "model_id": "d1845c6d752141009d7ea9e6ed1c0fb5",
       "version_major": 2,
       "version_minor": 0
      },
      "text/plain": [
       "Downloading:   0%|          | 0.00/62.4M [00:00<?, ?B/s]"
      ]
     },
     "metadata": {},
     "output_type": "display_data"
    },
    {
     "name": "stderr",
     "output_type": "stream",
     "text": [
      "C:\\Users\\pavel\\anaconda3\\lib\\site-packages\\huggingface_hub\\file_download.py:123: UserWarning: `huggingface_hub` cache-system uses symlinks by default to efficiently store duplicated files but your machine does not support them in C:\\Users\\pavel\\.cache\\huggingface\\hub. Caching files will still work but in a degraded version that might require more space on your disk. This warning can be disabled by setting the `HF_HUB_DISABLE_SYMLINKS_WARNING` environment variable. For more details, see https://huggingface.co/docs/huggingface_hub/how-to-cache#limitations.\n",
      "To support symlinks on Windows, you either need to activate Developer Mode or to run Python as an administrator. In order to see activate developer mode, see this article: https://docs.microsoft.com/en-us/windows/apps/get-started/enable-your-device-for-development\n",
      "  warnings.warn(message)\n"
     ]
    }
   ],
   "source": [
    "import timm \n",
    "import torch\n",
    "import segmentation_models_pytorch as smp\n",
    "import cv2\n",
    "import numpy as np\n",
    "pretrained_resnet_34 = timm.create_model('convnext_nano',features_only=False, pretrained=True)\n",
    "def img2tensor(image: np.ndarray,\n",
    "               mean: list = None, std: list = None,\n",
    "               size: int = 224) -> torch.Tensor:\n",
    "    if mean is None:\n",
    "        mean = mean=[0.485, 0.456, 0.406]\n",
    "    if std is None:\n",
    "        std=[0.229, 0.224, 0.225]\n",
    "    t = cv2.resize(image, (size, size), interpolation=cv2.INTER_AREA)\n",
    "    t = torch.from_numpy(t.astype(np.float32) / 255.0) # 0..255 -> 0..1\n",
    "    t = t.permute(2, 0, 1)  # HWC -> CHW\n",
    "    _m = torch.FloatTensor(mean).unsqueeze(1).unsqueeze(1) # Cx1x1\n",
    "    _s =  torch.FloatTensor(std).unsqueeze(1).unsqueeze(1)\n",
    "    t = (t - _m) / (_s + 1E-7)\n",
    "    return t"
   ]
  },
  {
   "cell_type": "markdown",
   "id": "ae94793e",
   "metadata": {},
   "source": [
    "# Напишите код запуска модели на пользовательском изображении"
   ]
  },
  {
   "cell_type": "code",
   "execution_count": 9,
   "id": "2ddd6e4a",
   "metadata": {},
   "outputs": [
    {
     "data": {
      "text/plain": [
       "torch.Size([1, 1000])"
      ]
     },
     "execution_count": 9,
     "metadata": {},
     "output_type": "execute_result"
    }
   ],
   "source": [
    "import cv2\n",
    "import torch\n",
    "import urllib\n",
    "import os\n",
    "import numpy as np\n",
    "from matplotlib import pyplot as plt\n",
    "import segmentation_models_pytorch as smp\n",
    "import timm\n",
    "from tqdm.notebook import tqdm\n",
    "%matplotlib inline\n",
    "import urllib.request\n",
    "'''\n",
    "\n",
    "img_url = 'https://shack.explorer-russia.ru/gallery/auto/modification/2949.jpg'\n",
    "req = urllib.request.urlopen(img_url)\n",
    "arr = np.asarray(bytearray(req.read()), dtype=np.uint8)\n",
    "img = cv2.imdecode(arr, -1)\n",
    "img = cv2.cvtColor(img, cv2.COLOR_BGR2RGB)\n",
    "\n",
    "plt.figure(figsize=(12, 10))\n",
    "plt.imshow(img)\n",
    "plt.show()\n",
    "'''\n",
    "image = cv2.imread(\"756ac8864b07aaf0393073b2741213ad.jpeg\")\n",
    "x     = img2tensor(image,size=512).unsqueeze(0)\n",
    "pretrained_resnet_34(x).shape"
   ]
  },
  {
   "cell_type": "code",
   "execution_count": 10,
   "id": "84661b77",
   "metadata": {},
   "outputs": [],
   "source": [
    "import cv2 as cv\n",
    "img = cv2.imread('756ac8864b07aaf0393073b2741213ad.jpeg')\n",
    "while True: \n",
    "    cv.imshow('ImageDisplay',img)\n",
    "    if cv.waitKey(20) & 0xFF == ord('d'):\n",
    "        break\n",
    "cv.destroyAllWindows()"
   ]
  },
  {
   "cell_type": "code",
   "execution_count": 11,
   "id": "1c84fbc1",
   "metadata": {},
   "outputs": [
    {
     "name": "stdout",
     "output_type": "stream",
     "text": [
      "torch.Size([1, 3, 512, 512])\n",
      "torch.Size([1, 10])\n",
      "tensor(0.5682)\n"
     ]
    }
   ],
   "source": [
    "print(x.shape)\n",
    "# Option 1\n",
    "with torch.no_grad():\n",
    "    out = model(x)\n",
    "\n",
    "print(out.shape)\n",
    "print(out.max())"
   ]
  },
  {
   "cell_type": "code",
   "execution_count": 12,
   "id": "a7b677e7",
   "metadata": {},
   "outputs": [
    {
     "name": "stdout",
     "output_type": "stream",
     "text": [
      "tensor(0.1513)\n",
      "tensor(1.0000)\n"
     ]
    }
   ],
   "source": [
    "probabilities = torch.nn.functional.softmax(out[0], dim=0)  # BS is 1 => take 0 elem\n",
    "print(probabilities.max())\n",
    "print(probabilities.sum())"
   ]
  },
  {
   "cell_type": "code",
   "execution_count": 13,
   "id": "7ad0f459",
   "metadata": {},
   "outputs": [
    {
     "data": {
      "text/plain": [
       "('imagenet_classes.txt', <http.client.HTTPMessage at 0x17072cd9f90>)"
      ]
     },
     "execution_count": 13,
     "metadata": {},
     "output_type": "execute_result"
    }
   ],
   "source": [
    "url = 'https://raw.githubusercontent.com/pytorch/hub/master/imagenet_classes.txt' \n",
    "urllib.request.urlretrieve(url, 'imagenet_classes.txt')"
   ]
  },
  {
   "cell_type": "code",
   "execution_count": 14,
   "id": "6d7fb9d3",
   "metadata": {},
   "outputs": [
    {
     "name": "stdout",
     "output_type": "stream",
     "text": [
      "torch.Size([1000])\n"
     ]
    }
   ],
   "source": [
    "import torch\n",
    "with torch.no_grad():\n",
    "    out = pretrained_resnet_34(x)\n",
    "probabilities = torch.nn.functional.softmax(out[0], dim=0)\n",
    "print(probabilities.shape)"
   ]
  },
  {
   "cell_type": "code",
   "execution_count": 15,
   "id": "f5cd7389",
   "metadata": {},
   "outputs": [],
   "source": [
    "# Get imagenet class mappings\n",
    "with open(\"imagenet_classes.txt\", \"r\") as f:\n",
    "    categories = [s.strip() for s in f.readlines()]"
   ]
  },
  {
   "cell_type": "code",
   "execution_count": 18,
   "id": "c769c198",
   "metadata": {},
   "outputs": [
    {
     "name": "stdout",
     "output_type": "stream",
     "text": [
      "beagle 0.3965320885181427\n",
      "fountain 0.006739823613315821\n",
      "tennis ball 0.004441143479198217\n",
      "Walker hound 0.0042942119762301445\n",
      "Chihuahua 0.003589363768696785\n"
     ]
    }
   ],
   "source": [
    "# Print top categories per image\n",
    "top5_prob, top5_catid = torch.topk(probabilities, 5)\n",
    "for i in range(top5_prob.size(0)):\n",
    "    print(categories[top5_catid[i]], top5_prob[i].item())"
   ]
  },
  {
   "cell_type": "code",
   "execution_count": null,
   "id": "c48035f5",
   "metadata": {},
   "outputs": [],
   "source": [
    "# потом дописать классификацию и трассировку"
   ]
  },
  {
   "cell_type": "markdown",
   "id": "391172b3",
   "metadata": {},
   "source": [
    "## Создайте модель с помощью SMP с encoder частью из timm "
   ]
  },
  {
   "cell_type": "code",
   "execution_count": null,
   "id": "23578c0a",
   "metadata": {},
   "outputs": [],
   "source": [
    "model = smp.Unet(\n",
    "    encoder_name=\"resnet50\",        # choose encoder, e.g. mobilenet_v2 or efficientnet-b7\n",
    "    encoder_weights=\"imagenet\",     # use `imagenet` pre-trained weights for encoder initialization\n",
    "    in_channels=3,                  # model input channels (1 for gray-scale images, 3 for RGB, etc.)\n",
    "    classes=1,                      # model output channels (number of classes in your dataset)\n",
    "    activation='sigmoid'\n",
    ")\n",
    "_=model.eval()\n",
    "torch.save(model.encoder.state_dict(),'resnet50_1.pt')\n",
    "model2= timm.create_model('resnet50',features_only=True,checkpoint_path='resnet50_1.pt')"
   ]
  },
  {
   "cell_type": "markdown",
   "id": "e99c86a9",
   "metadata": {},
   "source": [
    "### повторим для другой модели"
   ]
  },
  {
   "cell_type": "code",
   "execution_count": null,
   "id": "b7f97a11",
   "metadata": {},
   "outputs": [],
   "source": [
    "model3 = smp.Unet(\n",
    "    encoder_name=\"resnet50\",        # choose encoder, e.g. mobilenet_v2 or efficientnet-b7\n",
    "    encoder_weights=\"ssl\",     # use `imagenet` pre-trained weights for encoder initialization\n",
    "    in_channels=3,                  # model input channels (1 for gray-scale images, 3 for RGB, etc.)\n",
    "    classes=1,                      # model output channels (number of classes in your dataset)\n",
    "    activation='sigmoid'\n",
    ")\n",
    "_=model3.eval()\n",
    "torch.save(model.encoder.state_dict(),'resnet50_2.pt')\n",
    "model4= timm.create_model('resnet50',features_only=True,checkpoint_path='resnet50_2.pt')"
   ]
  },
  {
   "cell_type": "code",
   "execution_count": null,
   "id": "19da4991",
   "metadata": {},
   "outputs": [],
   "source": []
  }
 ],
 "metadata": {
  "kernelspec": {
   "display_name": "Python 3 (ipykernel)",
   "language": "python",
   "name": "python3"
  },
  "language_info": {
   "codemirror_mode": {
    "name": "ipython",
    "version": 3
   },
   "file_extension": ".py",
   "mimetype": "text/x-python",
   "name": "python",
   "nbconvert_exporter": "python",
   "pygments_lexer": "ipython3",
   "version": "3.10.9"
  }
 },
 "nbformat": 4,
 "nbformat_minor": 5
}

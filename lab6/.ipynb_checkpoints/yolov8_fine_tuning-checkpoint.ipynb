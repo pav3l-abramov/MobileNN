{
 "cells": [
  {
   "cell_type": "code",
   "execution_count": 1,
   "id": "5f2f4483-81e9-4378-8e98-222ed56e0bad",
   "metadata": {
    "id": "5f2f4483-81e9-4378-8e98-222ed56e0bad"
   },
   "outputs": [],
   "source": [
    "import zipfile\n",
    "import requests\n",
    "import cv2\n",
    "import matplotlib.pyplot as plt\n",
    "import glob \n",
    "import random\n",
    "import os"
   ]
  },
  {
   "cell_type": "markdown",
   "id": "9f24766c-af59-4ae6-a00b-39051ef783a9",
   "metadata": {
    "id": "9f24766c-af59-4ae6-a00b-39051ef783a9"
   },
   "source": [
    "## Install Ultralytics Package"
   ]
  },
  {
   "cell_type": "code",
   "execution_count": 2,
   "id": "1c6fe336-9564-4d40-bbc4-ae9a823ea6e4",
   "metadata": {
    "colab": {
     "base_uri": "https://localhost:8080/",
     "height": 1000
    },
    "id": "1c6fe336-9564-4d40-bbc4-ae9a823ea6e4",
    "outputId": "771faace-b2e3-4f2e-c09f-42a36dfbabec",
    "scrolled": true,
    "tags": []
   },
   "outputs": [
    {
     "name": "stdout",
     "output_type": "stream",
     "text": [
      "Requirement already satisfied: ultralytics in c:\\users\\pavel\\anaconda3\\lib\\site-packages (8.0.195)\n",
      "Requirement already satisfied: matplotlib>=3.3.0 in c:\\users\\pavel\\anaconda3\\lib\\site-packages (from ultralytics) (3.8.0)\n",
      "Requirement already satisfied: numpy>=1.22.2 in c:\\users\\pavel\\anaconda3\\lib\\site-packages (from ultralytics) (1.24.3)\n",
      "Requirement already satisfied: opencv-python>=4.6.0 in c:\\users\\pavel\\anaconda3\\lib\\site-packages (from ultralytics) (4.8.1.78)\n",
      "Requirement already satisfied: pillow>=7.1.2 in c:\\users\\pavel\\anaconda3\\lib\\site-packages (from ultralytics) (10.0.1)\n",
      "Requirement already satisfied: pyyaml>=5.3.1 in c:\\users\\pavel\\anaconda3\\lib\\site-packages (from ultralytics) (6.0)\n",
      "Requirement already satisfied: requests>=2.23.0 in c:\\users\\pavel\\anaconda3\\lib\\site-packages (from ultralytics) (2.31.0)\n",
      "Requirement already satisfied: scipy>=1.4.1 in c:\\users\\pavel\\anaconda3\\lib\\site-packages (from ultralytics) (1.11.3)\n",
      "Requirement already satisfied: torch>=1.8.0 in c:\\users\\pavel\\anaconda3\\lib\\site-packages (from ultralytics) (2.1.0)\n",
      "Requirement already satisfied: torchvision>=0.9.0 in c:\\users\\pavel\\anaconda3\\lib\\site-packages (from ultralytics) (0.16.0)\n",
      "Requirement already satisfied: tqdm>=4.64.0 in c:\\users\\pavel\\anaconda3\\lib\\site-packages (from ultralytics) (4.64.1)\n",
      "Requirement already satisfied: pandas>=1.1.4 in c:\\users\\pavel\\anaconda3\\lib\\site-packages (from ultralytics) (1.5.3)\n",
      "Requirement already satisfied: seaborn>=0.11.0 in c:\\users\\pavel\\anaconda3\\lib\\site-packages (from ultralytics) (0.12.2)\n",
      "Requirement already satisfied: psutil in c:\\users\\pavel\\anaconda3\\lib\\site-packages (from ultralytics) (5.9.0)\n",
      "Requirement already satisfied: py-cpuinfo in c:\\users\\pavel\\anaconda3\\lib\\site-packages (from ultralytics) (9.0.0)\n",
      "Requirement already satisfied: thop>=0.1.1 in c:\\users\\pavel\\anaconda3\\lib\\site-packages (from ultralytics) (0.1.1.post2209072238)\n",
      "Requirement already satisfied: contourpy>=1.0.1 in c:\\users\\pavel\\anaconda3\\lib\\site-packages (from matplotlib>=3.3.0->ultralytics) (1.0.5)\n",
      "Requirement already satisfied: cycler>=0.10 in c:\\users\\pavel\\anaconda3\\lib\\site-packages (from matplotlib>=3.3.0->ultralytics) (0.10.0)\n",
      "Requirement already satisfied: fonttools>=4.22.0 in c:\\users\\pavel\\anaconda3\\lib\\site-packages (from matplotlib>=3.3.0->ultralytics) (4.43.1)\n",
      "Requirement already satisfied: kiwisolver>=1.0.1 in c:\\users\\pavel\\anaconda3\\lib\\site-packages (from matplotlib>=3.3.0->ultralytics) (1.4.4)\n",
      "Requirement already satisfied: packaging>=20.0 in c:\\users\\pavel\\anaconda3\\lib\\site-packages (from matplotlib>=3.3.0->ultralytics) (22.0)\n",
      "Requirement already satisfied: pyparsing>=2.3.1 in c:\\users\\pavel\\anaconda3\\lib\\site-packages (from matplotlib>=3.3.0->ultralytics) (2.4.7)\n",
      "Requirement already satisfied: python-dateutil>=2.7 in c:\\users\\pavel\\anaconda3\\lib\\site-packages (from matplotlib>=3.3.0->ultralytics) (2.8.2)\n",
      "Requirement already satisfied: pytz>=2020.1 in c:\\users\\pavel\\anaconda3\\lib\\site-packages (from pandas>=1.1.4->ultralytics) (2022.7)\n",
      "Requirement already satisfied: charset-normalizer<4,>=2 in c:\\users\\pavel\\anaconda3\\lib\\site-packages (from requests>=2.23.0->ultralytics) (2.0.4)\n",
      "Requirement already satisfied: idna<4,>=2.5 in c:\\users\\pavel\\anaconda3\\lib\\site-packages (from requests>=2.23.0->ultralytics) (2.10)\n",
      "Requirement already satisfied: urllib3<3,>=1.21.1 in c:\\users\\pavel\\anaconda3\\lib\\site-packages (from requests>=2.23.0->ultralytics) (1.26.16)\n",
      "Requirement already satisfied: certifi>=2017.4.17 in c:\\users\\pavel\\anaconda3\\lib\\site-packages (from requests>=2.23.0->ultralytics) (2023.7.22)\n",
      "Requirement already satisfied: filelock in c:\\users\\pavel\\anaconda3\\lib\\site-packages (from torch>=1.8.0->ultralytics) (3.9.0)\n",
      "Requirement already satisfied: typing-extensions in c:\\users\\pavel\\anaconda3\\lib\\site-packages (from torch>=1.8.0->ultralytics) (4.8.0)\n",
      "Requirement already satisfied: sympy in c:\\users\\pavel\\anaconda3\\lib\\site-packages (from torch>=1.8.0->ultralytics) (1.11.1)\n",
      "Requirement already satisfied: networkx in c:\\users\\pavel\\anaconda3\\lib\\site-packages (from torch>=1.8.0->ultralytics) (2.8.4)\n",
      "Requirement already satisfied: jinja2 in c:\\users\\pavel\\anaconda3\\lib\\site-packages (from torch>=1.8.0->ultralytics) (3.1.2)\n",
      "Requirement already satisfied: fsspec in c:\\users\\pavel\\anaconda3\\lib\\site-packages (from torch>=1.8.0->ultralytics) (2022.11.0)\n",
      "Requirement already satisfied: colorama in c:\\users\\pavel\\anaconda3\\lib\\site-packages (from tqdm>=4.64.0->ultralytics) (0.4.6)\n",
      "Requirement already satisfied: six in c:\\users\\pavel\\anaconda3\\lib\\site-packages (from cycler>=0.10->matplotlib>=3.3.0->ultralytics) (1.16.0)\n",
      "Requirement already satisfied: MarkupSafe>=2.0 in c:\\users\\pavel\\anaconda3\\lib\\site-packages (from jinja2->torch>=1.8.0->ultralytics) (2.1.1)\n",
      "Requirement already satisfied: mpmath>=0.19 in c:\\users\\pavel\\anaconda3\\lib\\site-packages (from sympy->torch>=1.8.0->ultralytics) (1.3.0)\n"
     ]
    },
    {
     "name": "stderr",
     "output_type": "stream",
     "text": [
      "\n",
      "[notice] A new release of pip is available: 23.2.1 -> 23.3.1\n",
      "[notice] To update, run: python.exe -m pip install --upgrade pip\n"
     ]
    }
   ],
   "source": [
    "!pip install ultralytics"
   ]
  },
  {
   "cell_type": "markdown",
   "id": "aca11f1c-3328-429d-949b-a942d011b328",
   "metadata": {
    "id": "aca11f1c-3328-429d-949b-a942d011b328"
   },
   "source": [
    "## Download the Dataset"
   ]
  },
  {
   "cell_type": "code",
   "execution_count": 3,
   "id": "43ed3ece-3bc5-41f4-bdf8-0e715051be0a",
   "metadata": {
    "id": "43ed3ece-3bc5-41f4-bdf8-0e715051be0a"
   },
   "outputs": [],
   "source": [
    "os.makedirs('datasets', exist_ok=True)"
   ]
  },
  {
   "cell_type": "code",
   "execution_count": 4,
   "id": "ed490f10-f72f-4f60-8f0b-264328a4c9d4",
   "metadata": {
    "colab": {
     "base_uri": "https://localhost:8080/"
    },
    "id": "ed490f10-f72f-4f60-8f0b-264328a4c9d4",
    "outputId": "2b15f81b-7d07-4aa8-d7f8-04e7e2a1030b"
   },
   "outputs": [
    {
     "name": "stdout",
     "output_type": "stream",
     "text": [
      "C:\\Users\\pavel\\mobneyron\\MobileNN\\lab6\\datasets\n"
     ]
    }
   ],
   "source": [
    "%cd datasets"
   ]
  },
  {
   "cell_type": "code",
   "execution_count": null,
   "id": "c78ff47a-fdb4-4678-9b1d-f187c778eff2",
   "metadata": {
    "id": "c78ff47a-fdb4-4678-9b1d-f187c778eff2"
   },
   "outputs": [],
   "source": [
    "def download_file(url, save_name):\n",
    "    url = url\n",
    "    if not os.path.exists(save_name):\n",
    "        file = requests.get(url)\n",
    "        open(save_name, 'wb').write(file.content)\n",
    "        \n",
    "download_file(\n",
    "    'https://www.dropbox.com/s/qvglw8pqo16769f/pothole_dataset_v8.zip?dl=1',\n",
    "    'pothole_dataset_v8.zip'\n",
    ")"
   ]
  },
  {
   "cell_type": "code",
   "execution_count": null,
   "id": "dc99d9fd-d59c-4040-9535-c216df563b6d",
   "metadata": {
    "colab": {
     "base_uri": "https://localhost:8080/"
    },
    "id": "dc99d9fd-d59c-4040-9535-c216df563b6d",
    "outputId": "cba56c7b-9fb9-4982-fb8d-81d89ed659bd"
   },
   "outputs": [],
   "source": [
    "# Unzip the data file\n",
    "def unzip(zip_file=None):\n",
    "    try:\n",
    "        with zipfile.ZipFile(zip_file) as z:\n",
    "            z.extractall(\"./\")\n",
    "            print(\"Extracted all\")\n",
    "    except:\n",
    "        print(\"Invalid file\")\n",
    "\n",
    "unzip('pothole_dataset_v8.zip')"
   ]
  },
  {
   "cell_type": "code",
   "execution_count": null,
   "id": "b7bbf45f-e55d-466b-bc75-e9c4e67f5972",
   "metadata": {
    "colab": {
     "base_uri": "https://localhost:8080/"
    },
    "id": "b7bbf45f-e55d-466b-bc75-e9c4e67f5972",
    "outputId": "1c89ac60-fe27-43b4-c310-cff762fe7650"
   },
   "outputs": [],
   "source": [
    "%cd .."
   ]
  },
  {
   "cell_type": "markdown",
   "id": "67106dfe-ce91-48d1-ac7b-d40093ca040b",
   "metadata": {
    "id": "67106dfe-ce91-48d1-ac7b-d40093ca040b"
   },
   "source": [
    "## Visualize Images from the Dataset"
   ]
  },
  {
   "cell_type": "code",
   "execution_count": null,
   "id": "ef2f34fc-564c-4cfd-928a-33fd6cacaf59",
   "metadata": {
    "id": "ef2f34fc-564c-4cfd-928a-33fd6cacaf59"
   },
   "outputs": [],
   "source": [
    "# Function to convert bounding boxes in YOLO format to xmin, ymin, xmax, ymax.\n",
    "def yolo2bbox(bboxes):\n",
    "    xmin, ymin = bboxes[0]-bboxes[2]/2, bboxes[1]-bboxes[3]/2\n",
    "    xmax, ymax = bboxes[0]+bboxes[2]/2, bboxes[1]+bboxes[3]/2\n",
    "    return xmin, ymin, xmax, ymax"
   ]
  },
  {
   "cell_type": "code",
   "execution_count": null,
   "id": "5a213ff6-fb28-4541-80f4-0f8c67323d9b",
   "metadata": {
    "id": "5a213ff6-fb28-4541-80f4-0f8c67323d9b"
   },
   "outputs": [],
   "source": [
    "def plot_box(image, bboxes, labels):\n",
    "    # Need the image height and width to denormalize\n",
    "    # the bounding box coordinates\n",
    "    h, w, _ = image.shape\n",
    "    for box_num, box in enumerate(bboxes):\n",
    "        x1, y1, x2, y2 = yolo2bbox(box)\n",
    "        # Denormalize the coordinates.\n",
    "        xmin = int(x1*w)\n",
    "        ymin = int(y1*h)\n",
    "        xmax = int(x2*w)\n",
    "        ymax = int(y2*h)\n",
    "\n",
    "        thickness = max(2, int(w/275))\n",
    "                \n",
    "        cv2.rectangle(\n",
    "            image, \n",
    "            (xmin, ymin), (xmax, ymax),\n",
    "            color=(0, 0, 255),\n",
    "            thickness=thickness\n",
    "        )\n",
    "    return image"
   ]
  },
  {
   "cell_type": "code",
   "execution_count": null,
   "id": "17582d3e-2f08-430b-ab70-abced31cbe3c",
   "metadata": {
    "id": "17582d3e-2f08-430b-ab70-abced31cbe3c"
   },
   "outputs": [],
   "source": [
    "# Function to plot images with the bounding boxes.\n",
    "def plot(image_paths, label_paths, num_samples):\n",
    "    all_images = []\n",
    "    all_images.extend(glob.glob(image_paths+'/*.jpg'))\n",
    "    all_images.extend(glob.glob(image_paths+'/*.JPG'))\n",
    "    \n",
    "    all_images.sort()\n",
    "\n",
    "    num_images = len(all_images)\n",
    "    \n",
    "    plt.figure(figsize=(15, 12))\n",
    "    for i in range(num_samples):\n",
    "        j = random.randint(0,num_images-1)\n",
    "        image_name = all_images[j]\n",
    "        image_name = '.'.join(image_name.split(os.path.sep)[-1].split('.')[:-1])\n",
    "        image = cv2.imread(all_images[j])\n",
    "        with open(os.path.join(label_paths, image_name+'.txt'), 'r') as f:\n",
    "            bboxes = []\n",
    "            labels = []\n",
    "            label_lines = f.readlines()\n",
    "            for label_line in label_lines:\n",
    "                label = label_line[0]\n",
    "                bbox_string = label_line[2:]\n",
    "                x_c, y_c, w, h = bbox_string.split(' ')\n",
    "                x_c = float(x_c)\n",
    "                y_c = float(y_c)\n",
    "                w = float(w)\n",
    "                h = float(h)\n",
    "                bboxes.append([x_c, y_c, w, h])\n",
    "                labels.append(label)\n",
    "        result_image = plot_box(image, bboxes, labels)\n",
    "        plt.subplot(2, 2, i+1)\n",
    "        plt.imshow(result_image[:, :, ::-1])\n",
    "        plt.axis('off')\n",
    "    plt.subplots_adjust(wspace=1)\n",
    "    plt.tight_layout()\n",
    "    plt.show()"
   ]
  },
  {
   "cell_type": "code",
   "execution_count": null,
   "id": "29598f69-a9a2-4e3f-bcd4-18255a9d7f19",
   "metadata": {
    "colab": {
     "base_uri": "https://localhost:8080/",
     "height": 793
    },
    "id": "29598f69-a9a2-4e3f-bcd4-18255a9d7f19",
    "outputId": "2c897ab8-33ab-45fd-aff9-72718ce4bd6a"
   },
   "outputs": [],
   "source": [
    "# Visualize a few training images.\n",
    "plot(\n",
    "    image_paths='datasets/pothole_dataset_v8/train/images/', \n",
    "    label_paths='datasets/pothole_dataset_v8/train/labels/',\n",
    "    num_samples=4,\n",
    ")"
   ]
  },
  {
   "cell_type": "markdown",
   "id": "c25ceb15-6d00-4afa-a349-4dd4fdcf5193",
   "metadata": {
    "id": "c25ceb15-6d00-4afa-a349-4dd4fdcf5193"
   },
   "source": [
    "## Dataset YAML File"
   ]
  },
  {
   "cell_type": "code",
   "execution_count": null,
   "id": "b0031a4a-b114-444f-bc9e-e5e30ac79e42",
   "metadata": {
    "colab": {
     "base_uri": "https://localhost:8080/"
    },
    "id": "b0031a4a-b114-444f-bc9e-e5e30ac79e42",
    "outputId": "c748a3cf-528e-49d5-e0b3-3ef9d1d78b4e"
   },
   "outputs": [],
   "source": [
    "%%writefile pothole_v8.yaml\n",
    "path: 'pothole_dataset_v8/'\n",
    "train: 'train/images'\n",
    "val: 'valid/images'\n",
    "\n",
    "# class names\n",
    "names: \n",
    "  0: 'pothole'"
   ]
  },
  {
   "cell_type": "markdown",
   "id": "9e86ee50-a8f0-4500-a001-42fb3f18439d",
   "metadata": {
    "id": "9e86ee50-a8f0-4500-a001-42fb3f18439d"
   },
   "source": [
    "## YOLOv8 Nano Training"
   ]
  },
  {
   "cell_type": "code",
   "execution_count": null,
   "id": "81a6b664-8e6f-4e31-ba6b-304164c40e1a",
   "metadata": {
    "colab": {
     "base_uri": "https://localhost:8080/"
    },
    "id": "81a6b664-8e6f-4e31-ba6b-304164c40e1a",
    "outputId": "ec52898e-3ae0-4889-97d2-0ba36223ecaf",
    "scrolled": true,
    "tags": []
   },
   "outputs": [],
   "source": [
    "# Sample training for 5 epoch.\n",
    "EPOCHS = 5\n",
    "!yolo task=detect mode=train model=yolov8n.pt imgsz=1280 data=pothole_v8.yaml epochs={EPOCHS} batch=8 name=yolov8n_v8_50e"
   ]
  },
  {
   "cell_type": "markdown",
   "id": "5fcdabf1-0ebe-4f42-a6a5-7ff8e4df4875",
   "metadata": {
    "id": "5fcdabf1-0ebe-4f42-a6a5-7ff8e4df4875"
   },
   "source": [
    "## Evaluation on Validation Images"
   ]
  },
  {
   "cell_type": "code",
   "execution_count": null,
   "id": "da37c627-b4f0-442f-9e60-7035f486c302",
   "metadata": {
    "id": "da37c627-b4f0-442f-9e60-7035f486c302",
    "scrolled": true,
    "tags": []
   },
   "outputs": [],
   "source": [
    "!yolo task=detect mode=val model=runs/detect/yolov8n_v8_50e/weights/best.pt name=yolov8n_eval data=pothole_v8.yaml"
   ]
  },
  {
   "cell_type": "markdown",
   "id": "03071a7c-6c2b-45e0-8a9c-f37384fab77e",
   "metadata": {
    "id": "03071a7c-6c2b-45e0-8a9c-f37384fab77e"
   },
   "source": [
    "## Inference on Validation Images"
   ]
  },
  {
   "cell_type": "code",
   "execution_count": null,
   "id": "b2e2073a-d46e-47f4-8b82-de3d424ef633",
   "metadata": {
    "id": "b2e2073a-d46e-47f4-8b82-de3d424ef633",
    "scrolled": true,
    "tags": []
   },
   "outputs": [],
   "source": [
    "!yolo task=detect \\\n",
    "mode=predict \\\n",
    "model=runs/detect/yolov8n_v8_50e/weights/best.pt \\\n",
    "source=datasets/pothole_dataset_v8/valid/images \\\n",
    "imgsz=1280 \\\n",
    "name=yolov8n_v8_50e_infer1280 \\\n",
    "hide_labels=True"
   ]
  },
  {
   "cell_type": "markdown",
   "id": "53b20328-2e16-4ef0-855c-5212b058e539",
   "metadata": {
    "id": "53b20328-2e16-4ef0-855c-5212b058e539"
   },
   "source": [
    "## Visualize Validation Results"
   ]
  },
  {
   "cell_type": "code",
   "execution_count": null,
   "id": "06dcd014-8a95-424e-b443-0ae3bd404431",
   "metadata": {
    "id": "06dcd014-8a95-424e-b443-0ae3bd404431"
   },
   "outputs": [],
   "source": [
    "# Plot and visualize images in a 2x2 grid.\n",
    "def visualize(result_dir, num_samples=4):\n",
    "    \"\"\"\n",
    "    Function accepts a list of images and plots\n",
    "    them in a 2x2 grid.\n",
    "    \"\"\"\n",
    "    plt.figure(figsize=(20, 12))\n",
    "    image_names = glob.glob(os.path.join(result_dir, '*.jpg'))\n",
    "    random.shuffle(image_names)\n",
    "    for i, image_name in enumerate(image_names):\n",
    "        image = plt.imread(image_name)\n",
    "        plt.subplot(2, 2, i+1)\n",
    "        plt.imshow(image)\n",
    "        plt.axis('off')\n",
    "        if i == num_samples-1:\n",
    "            break\n",
    "    plt.tight_layout()\n",
    "    plt.show()"
   ]
  },
  {
   "cell_type": "code",
   "execution_count": null,
   "id": "d2b3f113-cc15-4a46-906a-9884ca3780d1",
   "metadata": {
    "id": "d2b3f113-cc15-4a46-906a-9884ca3780d1"
   },
   "outputs": [],
   "source": [
    "visualize('runs/detect/yolov8n_v8_50e_infer1280/')"
   ]
  },
  {
   "cell_type": "code",
   "execution_count": null,
   "id": "U-OEaXMsct11",
   "metadata": {
    "id": "U-OEaXMsct11"
   },
   "outputs": [],
   "source": []
  }
 ],
 "metadata": {
  "accelerator": "GPU",
  "colab": {
   "provenance": []
  },
  "gpuClass": "standard",
  "kernelspec": {
   "display_name": "Python 3 (ipykernel)",
   "language": "python",
   "name": "python3"
  },
  "language_info": {
   "codemirror_mode": {
    "name": "ipython",
    "version": 3
   },
   "file_extension": ".py",
   "mimetype": "text/x-python",
   "name": "python",
   "nbconvert_exporter": "python",
   "pygments_lexer": "ipython3",
   "version": "3.10.9"
  }
 },
 "nbformat": 4,
 "nbformat_minor": 5
}
